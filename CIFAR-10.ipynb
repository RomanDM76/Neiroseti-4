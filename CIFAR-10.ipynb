{
 "cells": [
  {
   "cell_type": "code",
   "execution_count": 1,
   "metadata": {},
   "outputs": [
    {
     "name": "stderr",
     "output_type": "stream",
     "text": [
      "Using TensorFlow backend.\n"
     ]
    }
   ],
   "source": [
    "from keras.datasets import cifar10\n",
    "from keras.utils import np_utils\n",
    "from keras.models import Sequential\n",
    "from keras.layers.core import Dense, Dropout, Activation, Flatten\n",
    "from keras.layers.convolutional import Conv2D, MaxPooling2D\n",
    "from keras.optimizers import SGD, Adam, RMSprop\n",
    "import matplotlib.pyplot as plt"
   ]
  },
  {
   "cell_type": "code",
   "execution_count": 2,
   "metadata": {},
   "outputs": [],
   "source": [
    "# CIFAR-10 содержит 60К изображений 32*32*3 канала цвета\n",
    "IMG_CHANNELS = 3\n",
    "IMG_ROWS = 32\n",
    "IMG_COLS = 32\n",
    "\n",
    "BATCH_SIZE = 128\n",
    "NB_EPOCH = 25\n",
    "NB_CLASSES = 10\n",
    "VERBOSE = 1\n",
    "VALIDATION_SPLIT = 0.2\n",
    "OPTIM = RMSprop()"
   ]
  },
  {
   "cell_type": "code",
   "execution_count": 3,
   "metadata": {},
   "outputs": [],
   "source": [
    "(X_train, y_train), (X_test, y_test) = cifar10.load_data()"
   ]
  },
  {
   "cell_type": "code",
   "execution_count": 4,
   "metadata": {},
   "outputs": [],
   "source": [
    "# Пребобразуем к категориальному виду\n",
    "Y_train = np_utils.to_categorical(y_train, NB_CLASSES)\n",
    "Y_test = np_utils.to_categorical(y_test, NB_CLASSES)"
   ]
  },
  {
   "cell_type": "code",
   "execution_count": 5,
   "metadata": {},
   "outputs": [],
   "source": [
    "# Преобразуем к формату с плавующей точкой и нормируем к диапазоу (0,1)\n",
    "X_train = X_train.astype('float32')\n",
    "X_test = X_test.astype('float32')\n",
    "X_train /= 255\n",
    "X_test /= 255"
   ]
  },
  {
   "cell_type": "code",
   "execution_count": 6,
   "metadata": {},
   "outputs": [
    {
     "name": "stdout",
     "output_type": "stream",
     "text": [
      "Model: \"sequential_1\"\n",
      "_________________________________________________________________\n",
      "Layer (type)                 Output Shape              Param #   \n",
      "=================================================================\n",
      "conv2d_1 (Conv2D)            (None, 32, 32, 32)        4736      \n",
      "_________________________________________________________________\n",
      "activation_1 (Activation)    (None, 32, 32, 32)        0         \n",
      "_________________________________________________________________\n",
      "max_pooling2d_1 (MaxPooling2 (None, 16, 16, 32)        0         \n",
      "_________________________________________________________________\n",
      "dropout_1 (Dropout)          (None, 16, 16, 32)        0         \n",
      "_________________________________________________________________\n",
      "flatten_1 (Flatten)          (None, 8192)              0         \n",
      "_________________________________________________________________\n",
      "dense_1 (Dense)              (None, 512)               4194816   \n",
      "_________________________________________________________________\n",
      "activation_2 (Activation)    (None, 512)               0         \n",
      "_________________________________________________________________\n",
      "dropout_2 (Dropout)          (None, 512)               0         \n",
      "_________________________________________________________________\n",
      "dense_2 (Dense)              (None, 10)                5130      \n",
      "_________________________________________________________________\n",
      "activation_3 (Activation)    (None, 10)                0         \n",
      "=================================================================\n",
      "Total params: 4,204,682\n",
      "Trainable params: 4,204,682\n",
      "Non-trainable params: 0\n",
      "_________________________________________________________________\n"
     ]
    }
   ],
   "source": [
    "# Описываем нейросеть\n",
    "model = Sequential()\n",
    "model.add(Conv2D(32, (7, 7),padding='same',\n",
    "    input_shape=(IMG_ROWS,IMG_COLS, IMG_CHANNELS)))\n",
    "model.add(Activation('relu'))\n",
    "model.add(MaxPooling2D(pool_size=(2,2)))\n",
    "model.add(Dropout(0.25))\n",
    "model.add(Flatten())\n",
    "model.add(Dense(512))\n",
    "model.add(Activation('relu'))\n",
    "model.add(Dropout(0.5))\n",
    "model.add(Dense(NB_CLASSES))\n",
    "model.add(Activation('softmax'))\n",
    "model.summary()"
   ]
  },
  {
   "cell_type": "code",
   "execution_count": 7,
   "metadata": {},
   "outputs": [
    {
     "name": "stdout",
     "output_type": "stream",
     "text": [
      "Train on 40000 samples, validate on 10000 samples\n",
      "Epoch 1/25\n",
      "40000/40000 [==============================] - 98s 2ms/step - loss: 1.7577 - accuracy: 0.3796 - val_loss: 1.5047 - val_accuracy: 0.4682\n",
      "Epoch 2/25\n",
      "40000/40000 [==============================] - 86s 2ms/step - loss: 1.4040 - accuracy: 0.5043 - val_loss: 1.2681 - val_accuracy: 0.5618\n",
      "Epoch 3/25\n",
      "40000/40000 [==============================] - 90s 2ms/step - loss: 1.2474 - accuracy: 0.5641 - val_loss: 1.2069 - val_accuracy: 0.5817\n",
      "Epoch 4/25\n",
      "40000/40000 [==============================] - 90s 2ms/step - loss: 1.1500 - accuracy: 0.5967 - val_loss: 1.1313 - val_accuracy: 0.6071\n",
      "Epoch 5/25\n",
      "40000/40000 [==============================] - 93s 2ms/step - loss: 1.0650 - accuracy: 0.6273 - val_loss: 1.2014 - val_accuracy: 0.5931\n",
      "Epoch 6/25\n",
      "40000/40000 [==============================] - 90s 2ms/step - loss: 1.0054 - accuracy: 0.6520 - val_loss: 1.1114 - val_accuracy: 0.6234\n",
      "Epoch 7/25\n",
      "40000/40000 [==============================] - 91s 2ms/step - loss: 0.9395 - accuracy: 0.6741 - val_loss: 1.0953 - val_accuracy: 0.6312\n",
      "Epoch 8/25\n",
      "40000/40000 [==============================] - 91s 2ms/step - loss: 0.8800 - accuracy: 0.6952 - val_loss: 1.0577 - val_accuracy: 0.6453\n",
      "Epoch 9/25\n",
      "40000/40000 [==============================] - 91s 2ms/step - loss: 0.8293 - accuracy: 0.7139 - val_loss: 1.0459 - val_accuracy: 0.6546\n",
      "Epoch 10/25\n",
      "40000/40000 [==============================] - 91s 2ms/step - loss: 0.7918 - accuracy: 0.7283 - val_loss: 1.2336 - val_accuracy: 0.6196\n",
      "Epoch 11/25\n",
      "40000/40000 [==============================] - 91s 2ms/step - loss: 0.7478 - accuracy: 0.7412 - val_loss: 1.0472 - val_accuracy: 0.6636\n",
      "Epoch 12/25\n",
      "40000/40000 [==============================] - 90s 2ms/step - loss: 0.7103 - accuracy: 0.7598 - val_loss: 1.1081 - val_accuracy: 0.6491\n",
      "Epoch 13/25\n",
      "40000/40000 [==============================] - 90s 2ms/step - loss: 0.6821 - accuracy: 0.7656 - val_loss: 1.0897 - val_accuracy: 0.6605\n",
      "Epoch 14/25\n",
      "40000/40000 [==============================] - 107s 3ms/step - loss: 0.6425 - accuracy: 0.7819 - val_loss: 1.0439 - val_accuracy: 0.6735\n",
      "Epoch 15/25\n",
      "40000/40000 [==============================] - 97s 2ms/step - loss: 0.6186 - accuracy: 0.7901 - val_loss: 1.0737 - val_accuracy: 0.6731\n",
      "Epoch 16/25\n",
      "40000/40000 [==============================] - 95s 2ms/step - loss: 0.5928 - accuracy: 0.8004 - val_loss: 1.1242 - val_accuracy: 0.6760\n",
      "Epoch 17/25\n",
      "40000/40000 [==============================] - 104s 3ms/step - loss: 0.5712 - accuracy: 0.8056 - val_loss: 1.1773 - val_accuracy: 0.6749\n",
      "Epoch 18/25\n",
      "40000/40000 [==============================] - 108s 3ms/step - loss: 0.5479 - accuracy: 0.8164 - val_loss: 1.2662 - val_accuracy: 0.6516\n",
      "Epoch 19/25\n",
      "40000/40000 [==============================] - 105s 3ms/step - loss: 0.5274 - accuracy: 0.8224 - val_loss: 1.1856 - val_accuracy: 0.6675\n",
      "Epoch 20/25\n",
      "40000/40000 [==============================] - 108s 3ms/step - loss: 0.5200 - accuracy: 0.8265 - val_loss: 1.2017 - val_accuracy: 0.6727\n",
      "Epoch 21/25\n",
      "40000/40000 [==============================] - 92s 2ms/step - loss: 0.5006 - accuracy: 0.8325 - val_loss: 1.2171 - val_accuracy: 0.6750\n",
      "Epoch 22/25\n",
      "40000/40000 [==============================] - 89s 2ms/step - loss: 0.4796 - accuracy: 0.8400 - val_loss: 1.2669 - val_accuracy: 0.6746\n",
      "Epoch 23/25\n",
      "40000/40000 [==============================] - 91s 2ms/step - loss: 0.4687 - accuracy: 0.8432 - val_loss: 1.2747 - val_accuracy: 0.6680\n",
      "Epoch 24/25\n",
      "40000/40000 [==============================] - 90s 2ms/step - loss: 0.4622 - accuracy: 0.8482 - val_loss: 1.3031 - val_accuracy: 0.6636\n",
      "Epoch 25/25\n",
      "40000/40000 [==============================] - 90s 2ms/step - loss: 0.4543 - accuracy: 0.8528 - val_loss: 1.2734 - val_accuracy: 0.6793\n"
     ]
    },
    {
     "ename": "AttributeError",
     "evalue": "'Sequential' object has no attribute 'evalaute'",
     "output_type": "error",
     "traceback": [
      "\u001b[0;31m---------------------------------------------------------------------------\u001b[0m",
      "\u001b[0;31mAttributeError\u001b[0m                            Traceback (most recent call last)",
      "\u001b[0;32m<ipython-input-7-d4eb89471226>\u001b[0m in \u001b[0;36m<module>\u001b[0;34m\u001b[0m\n\u001b[1;32m      6\u001b[0m     verbose=VERBOSE)\n\u001b[1;32m      7\u001b[0m \u001b[0;34m\u001b[0m\u001b[0m\n\u001b[0;32m----> 8\u001b[0;31m score = model.evalaute(X_test, Y_test, \n\u001b[0m\u001b[1;32m      9\u001b[0m     batch_size=BATCH_SIZE, verbose=VERBOSE)\n\u001b[1;32m     10\u001b[0m \u001b[0mprint\u001b[0m\u001b[0;34m(\u001b[0m\u001b[0;34m\"Test score:\"\u001b[0m\u001b[0;34m,\u001b[0m \u001b[0mscore\u001b[0m\u001b[0;34m[\u001b[0m\u001b[0;36m0\u001b[0m\u001b[0;34m]\u001b[0m\u001b[0;34m)\u001b[0m\u001b[0;34m\u001b[0m\u001b[0;34m\u001b[0m\u001b[0m\n",
      "\u001b[0;31mAttributeError\u001b[0m: 'Sequential' object has no attribute 'evalaute'"
     ]
    }
   ],
   "source": [
    "# Обучение модели\n",
    "model.compile(loss='categorical_crossentropy', optimizer=OPTIM,\n",
    "    metrics=['accuracy'])\n",
    "model.fit(X_train, Y_train, batch_size=BATCH_SIZE,\n",
    "    epochs=NB_EPOCH, validation_split=VALIDATION_SPLIT,\n",
    "    verbose=VERBOSE)\n",
    "\n",
    "score = model.evalaute(X_test, Y_test, \n",
    "    batch_size=BATCH_SIZE, verbose=VERBOSE)\n",
    "print(\"Test score:\", score[0])\n",
    "print(\"Test accuracy\", score[1])"
   ]
  },
  {
   "cell_type": "code",
   "execution_count": null,
   "metadata": {},
   "outputs": [],
   "source": [
    "model_json = model.to_json()\n",
    "open('cifar10_arch.json','w').write(model_json)\n",
    "model,save_weights('cifar10_weights.h5', overwrite = True)"
   ]
  },
  {
   "cell_type": "code",
   "execution_count": null,
   "metadata": {},
   "outputs": [],
   "source": []
  },
  {
   "cell_type": "code",
   "execution_count": null,
   "metadata": {},
   "outputs": [],
   "source": []
  }
 ],
 "metadata": {
  "kernelspec": {
   "display_name": "Python 3",
   "language": "python",
   "name": "python3"
  },
  "language_info": {
   "codemirror_mode": {
    "name": "ipython",
    "version": 3
   },
   "file_extension": ".py",
   "mimetype": "text/x-python",
   "name": "python",
   "nbconvert_exporter": "python",
   "pygments_lexer": "ipython3",
   "version": "3.7.3"
  }
 },
 "nbformat": 4,
 "nbformat_minor": 2
}
